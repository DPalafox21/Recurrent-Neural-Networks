{
 "cells": [
  {
   "cell_type": "markdown",
   "metadata": {
    "id": "OMLDZNcKYamu"
   },
   "source": [
    "# CS549 Machine Learning \n",
    "# Assignment 7 (Part 2): Character-Level RNN-Based Text Classification Model\n",
    "\n",
    "**Total points: 10**\n",
    "\n",
    "In this assignment, you will implement character-level RNN models that are used to classify the nationality of names.\n",
    "\n",
    "This assignment is based on a tutorial from the PyTorch website: https://pytorch.org/tutorials/intermediate/char_rnn_classification_tutorial.html.\n",
    "Some helper functions are adopted from the original example. \n",
    "\n",
    "The major difference is that you will use the `torch.nn.RNNCell` provided in PyTorch as your basic building block, instead of writing a RNN cell yourself from scratch.\n",
    "\n",
    "---"
   ]
  },
  {
   "cell_type": "markdown",
   "metadata": {
    "id": "byQTe-BUYam1"
   },
   "source": [
    "## Import packages"
   ]
  },
  {
   "cell_type": "code",
   "execution_count": 1,
   "metadata": {
    "id": "6FNHsU01Yam2"
   },
   "outputs": [],
   "source": [
    "import torch\n",
    "import torch.nn as nn\n",
    "import random\n",
    "from rnn2_utils import *\n",
    "\n",
    "import matplotlib.pyplot as plt\n",
    "import matplotlib.ticker as ticker"
   ]
  },
  {
   "cell_type": "code",
   "execution_count": 2,
   "metadata": {
    "colab": {
     "base_uri": "https://localhost:8080/"
    },
    "id": "chuPHHUu52r3",
    "outputId": "7b3ba029-7f3b-417a-db1e-7716ce474f96"
   },
   "outputs": [
    {
     "name": "stdout",
     "output_type": "stream",
     "text": [
      "num of classes: 18\n",
      "num of letters: 57\n"
     ]
    }
   ],
   "source": [
    "print('num of classes:', n_categories)\n",
    "print('num of letters:', n_letters)"
   ]
  },
  {
   "cell_type": "markdown",
   "metadata": {
    "id": "259o742DYam5"
   },
   "source": [
    "---\n",
    "## Task 1. Defining the network\n",
    "\n",
    "**2 points**\n",
    "\n",
    "Define a single directional RNN model.\n",
    "\n",
    "**Instructions**\n",
    "- An RNN cell `rnn_cell`, a fully-connected layer `self.fc`, and a softmax layer `self.softmax` are defined in `__init__()`\n",
    "- The computational graph is defined in `forward()`. The hidden state of the RNN cell is stored in the tensor `h`, which is of size `[batch_size, hidden_size]`. `forward()` takes as input the tensor `x` in of size `[seq_length, batch_size, input_size]`, whose first dimension is the time steps. Therefore, we use a `for` loop to iterate over the time steps, and for each time step, we feed the input at the current step, and the previous hidden state to the RNN cell. The cell then returns a new hidden state, which overrides `h`.\n",
    "- Refer to the original tutorial and the API for `nn.RNNCell` for detailed information: https://pytorch.org/docs/stable/nn.html#rnncell."
   ]
  },
  {
   "cell_type": "code",
   "execution_count": 3,
   "metadata": {
    "id": "sYvCVHW8Yam6"
   },
   "outputs": [],
   "source": [
    "class RNN(nn.Module):\n",
    "    def __init__(self, input_size, hidden_size, output_size):\n",
    "        super(RNN, self).__init__()\n",
    "        self.hidden_size = hidden_size\n",
    "        \n",
    "        self.rnn_cell = nn.RNNCell(input_size, hidden_size)\n",
    "        self.fc = nn.Linear(hidden_size, output_size)\n",
    "        self.softmax = nn.LogSoftmax(dim=1)\n",
    "    \n",
    "    def forward(self, x):\n",
    "        \"\"\"\n",
    "        x: size [seq_length, 1, input_size]\n",
    "        \"\"\"\n",
    "        h = torch.zeros(x.size(1), self.hidden_size)\n",
    "        #print(x)\n",
    "        for i in range(x.size(0)):\n",
    "            ### START YOUR CODE ###\n",
    "            h = self.rnn_cell(x[i,:,:],h)\n",
    "            ### END YOUR CODE ###\n",
    "        \n",
    "        ### START YOUR CODE ###\n",
    "        # Hint: first call fc, then call softmax\n",
    "        out = self.softmax(self.fc(h))\n",
    "        ### END YOUR CODE ###\n",
    "        \n",
    "        return out"
   ]
  },
  {
   "cell_type": "code",
   "execution_count": 4,
   "metadata": {
    "colab": {
     "base_uri": "https://localhost:8080/"
    },
    "id": "KqiDlGsgYam7",
    "outputId": "9cd9ed85-dbcd-484d-ba92-cf533a5f6586"
   },
   "outputs": [
    {
     "name": "stdout",
     "output_type": "stream",
     "text": [
      "torch.Size([3, 18])\n",
      "tensor([-3.3146, -3.0216, -2.9363, -3.1215, -2.7141, -2.7103, -2.9526, -3.0657,\n",
      "        -2.9442, -3.0038, -2.6818, -2.7880, -2.9849, -3.1164, -2.5659, -2.5336,\n",
      "        -2.9586, -2.9764])\n"
     ]
    }
   ],
   "source": [
    "# Evaluate Task 1\n",
    "torch.manual_seed(0)\n",
    "rnn = RNN(10, 20, 18)\n",
    "input_data = torch.randn(6, 3, 10)\n",
    "\n",
    "with torch.no_grad():\n",
    "    out = rnn(input_data)\n",
    "    \n",
    "print(out.size())\n",
    "print(out[0])"
   ]
  },
  {
   "cell_type": "markdown",
   "metadata": {
    "id": "tBT_WaNhYam8"
   },
   "source": [
    "**Expected output**\n",
    "\n",
    "|&nbsp;|\n",
    "|--|\n",
    "|torch.Size([3, 18])|\n",
    "|tensor([-3.3146, -3.0216, -2.9363, -3.1215, -2.7141, -2.7103, -2.9526, -3.0657,|\n",
    "       | -2.9442, -3.0038, -2.6818, -2.7880, -2.9849, -3.1164, -2.5659, -2.5336,|\n",
    "       | -2.9586, -2.9764])|\n",
    "\n",
    "---"
   ]
  },
  {
   "cell_type": "markdown",
   "metadata": {
    "id": "IQllIIANYam-"
   },
   "source": [
    "## Task 2. Training the model\n",
    "\n",
    "**4 points**\n",
    "\n",
    "Train the model with stachastic gradient descent. Due to the setting of the origianl tutorrial, one data example is used per iteration, i.e., the mini-batch size is 1.\n",
    "\n",
    "**Instructions**\n",
    "- Each training data example contains a name (`x`) and a label indicating its nationality (`y`). \n",
    "- The model uses the tensor version of `x` and `y`, i.e., `x_tensor` and `y_tensor`. Here `x_tensor` is of size `[seq_length, 1, input_size]`, in which `input_size` is the total number of letters.\n",
    "- `x_tensor[0, 0, :]` as the one-hot encoding for the first letter in the string `x`, and so forth for `x_tensor[1, 0, :]` etc.\n",
    "- The function will output the predicing result every 5000 iterations. You can find a general trend that the prediction is getting more accurate."
   ]
  },
  {
   "cell_type": "code",
   "execution_count": 5,
   "metadata": {
    "id": "uTFdEenCYam_"
   },
   "outputs": [],
   "source": [
    "def train(model, n_iters = 100000, print_every = 5000, plot_every = 1000, learning_rate = 0.005):\n",
    "    # Turn on the training model\n",
    "    model.train()\n",
    "    \n",
    "    # Loss and optimizer\n",
    "    criterion = nn.NLLLoss()\n",
    "    optimizer = torch.optim.SGD(model.parameters(), lr = learning_rate)\n",
    "    \n",
    "    running_loss = 0\n",
    "    all_losses = []\n",
    "    \n",
    "    # Train loop\n",
    "    start = time.time()\n",
    "    for i in range(n_iters):\n",
    "        y, x, y_tensor, x_tensor = randomTrainingExample()\n",
    "        \n",
    "        ### START YOUR CODE ###\n",
    "        # zero grad\n",
    "        optimizer.zero_grad()\n",
    "        \n",
    "        # Forward pass\n",
    "        output = model(x_tensor)\n",
    "        loss = criterion(output,y_tensor)\n",
    "        \n",
    "        # Backprop and update\n",
    "        loss.backward()\n",
    "        optimizer.step()\n",
    "        ### END YOUR CODE ###\n",
    "        \n",
    "        # Record loss\n",
    "        running_loss += loss.item()\n",
    "        \n",
    "        # Print iter, loss, name, and guess\n",
    "        if i % print_every == 0 and i > 0:\n",
    "            guess, guess_i = categoryFromOutput(output)\n",
    "            correct = '✓' if guess == y else '✗ (%s)' % y\n",
    "            print('%d %d%% (%s) %.4f %s / %s %s' % (i, i / n_iters * 100, timeSince(start), loss, x, guess, correct))\n",
    "        \n",
    "        # Append loss\n",
    "        if i % plot_every == 0 and i > 0:\n",
    "            all_losses.append(running_loss / plot_every)\n",
    "            running_loss = 0\n",
    "    \n",
    "    # Plot\n",
    "    plt.figure()\n",
    "    plt.plot(all_losses)"
   ]
  },
  {
   "cell_type": "code",
   "execution_count": 6,
   "metadata": {
    "colab": {
     "base_uri": "https://localhost:8080/",
     "height": 588
    },
    "id": "QxGswHVjYanB",
    "outputId": "dee724f6-8183-4961-c8a3-1e5e14b03931"
   },
   "outputs": [
    {
     "name": "stdout",
     "output_type": "stream",
     "text": [
      "5000 5% (0m 5s) 2.7187 Villanueva / Greek ✗ (Spanish)\n",
      "10000 10% (0m 11s) 2.0185 Charbonneau / French ✓\n",
      "15000 15% (0m 17s) 4.8491 Santillian / Scottish ✗ (Spanish)\n",
      "20000 20% (0m 22s) 2.5057 Nogi / Korean ✗ (Japanese)\n",
      "25000 25% (0m 27s) 2.1713 Tankoshitsu / Greek ✗ (Japanese)\n",
      "30000 30% (0m 33s) 0.5022 Lawniczak / Polish ✓\n",
      "35000 35% (0m 38s) 2.0176 O'Byrne / French ✗ (Irish)\n",
      "40000 40% (0m 44s) 0.2090 Catalano / Italian ✓\n",
      "45000 45% (0m 49s) 0.5786 Albert / French ✓\n",
      "50000 50% (0m 55s) 2.3831 Tindall / Irish ✗ (English)\n",
      "55000 55% (1m 0s) 2.0776 Richard / Scottish ✗ (Dutch)\n",
      "60000 60% (1m 6s) 0.6985 O'Keeffe / Irish ✓\n",
      "65000 65% (1m 12s) 1.1752 Verdon / English ✓\n",
      "70000 70% (1m 17s) 1.7630 Rey / Dutch ✗ (French)\n",
      "75000 75% (1m 23s) 0.8616 Abt / German ✓\n",
      "80000 80% (1m 28s) 2.5082 Schmied / German ✗ (Czech)\n",
      "85000 85% (1m 34s) 2.0300 Mohren / English ✗ (Dutch)\n",
      "90000 90% (1m 39s) 0.5435 Pendlebury / English ✓\n",
      "95000 95% (1m 45s) 0.6660 Seif / Arabic ✓\n"
     ]
    },
    {
     "data": {
      "image/png": "[encoded data removed]",
      "text/plain": [
       "<Figure size 432x288 with 1 Axes>"
      ]
     },
     "metadata": {
      "needs_background": "light"
     },
     "output_type": "display_data"
    }
   ],
   "source": [
    "# Evaluate Task 2\n",
    "# Be patient with the training speed :)\n",
    "torch.manual_seed(0)\n",
    "random.seed(0)\n",
    "\n",
    "n_hidden = 128\n",
    "rnn = RNN(n_letters, n_hidden, n_categories)\n",
    "\n",
    "train(rnn)"
   ]
  },
  {
   "cell_type": "markdown",
   "metadata": {
    "id": "AGHCFP2fYanB"
   },
   "source": [
    "**Expected output**\n",
    "\n",
    "|&nbsp;|&nbsp;|\n",
    "|--|--|\n",
    "|5000 5% (0m 8s) | 3.1065 Ba / Vietnamese ✗ (Arabic)|\n",
    "|10000 10% (0m 17s)| 1.9009 Silva / Spanish ✗ (Portuguese)|\n",
    "|15000 15% (0m 27s)| 0.9776 Salucci / Italian ✓|\n",
    "|20000 20% (0m 36s)| 1.5460 Chaim / Korean ✗ (Chinese)|\n",
    "|25000 25% (0m 47s)| 1.9412 Cruz / Spanish ✗ (Portuguese)|\n",
    "|30000 30% (0m 57s)| 2.6189 Neusser / Dutch ✗ (Czech)|\n",
    "|35000 35% (1m 8s) |0.4944 Ribeiro / Portuguese ✓|\n",
    "|40000 40% (1m 18s)| 0.3007 Daher / Arabic ✓|\n",
    "|45000 45% (1m 28s)| 1.5447 Guang / Vietnamese ✗ (Chinese)|\n",
    "|50000 50% (1m 38s)| 0.9920 Mackenzie / Scottish ✓|\n",
    "|55000 55% (1m 48s)| 2.6635 Moon / English ✗ (Korean)|\n",
    "|60000 60% (1m 59s)| 2.5376 Boutros / Portuguese ✗ (Arabic)|\n",
    "|65000 65% (2m 9s) |0.5595 Schuttmann / German ✓|\n",
    "|70000 70% (2m 19s)| 1.6059 Spada / Japanese ✗ (Italian)|\n",
    "|75000 75% (2m 30s)| 1.1130 Coilean / Irish ✓|\n",
    "|80000 80% (2m 40s)| 0.6820 Schneider / German ✓|\n",
    "|85000 85% (2m 50s)| 0.3628 Lopez / Spanish ✓|\n",
    "|90000 90% (3m 1s) |1.1985 Tremblay / French ✓|\n",
    "|95000 95% (3m 12s)| 1.0904 Knopf / German ✓|\n",
    "\n",
    "---"
   ]
  },
  {
   "cell_type": "markdown",
   "metadata": {
    "id": "1dDoDY-VYanC"
   },
   "source": [
    "## Task 3 Bi-directional RNN model\n",
    "**4 points**\n",
    "\n",
    "Implement a bi-directional RNN model by modifying the architecture of the `RNN` class.\n",
    "\n",
    "**Instructions**\n",
    "- Two distinct RNN cells are defined in `__init__()`. The input size for the fully-connected layer is doubled, because it needs take input the concatenated hidden states from the two cells.\n",
    "- In `forward()`, two hidden states, `h1` and `h2`, are computed separately. `h1` is exactly the same as the previous `h` in one-directional `RNN`. `h2` is computed by reversing the order of the `for` loop: iterating from the last time step to the first time step.\n",
    "- Concatenate `h1` and `h2` using `torch.cat()`. Notice that the correct dimension needs be specified. "
   ]
  },
  {
   "cell_type": "code",
   "execution_count": 7,
   "metadata": {
    "id": "VVBv4R7mYanD"
   },
   "outputs": [],
   "source": [
    "class BiRNN(nn.Module):\n",
    "    def __init__(self, input_size, hidden_size, output_size):\n",
    "        super(BiRNN, self).__init__()\n",
    "        self.hidden_size = hidden_size\n",
    "        \n",
    "        self.rnn_cell1 = nn.RNNCell(input_size, hidden_size)\n",
    "        self.rnn_cell2 = nn.RNNCell(input_size, hidden_size)\n",
    "        \n",
    "        self.fc = nn.Linear(2 * hidden_size, output_size)\n",
    "        self.softmax = nn.LogSoftmax(dim=1)\n",
    "    \n",
    "    def forward(self, x):\n",
    "        \"\"\"\n",
    "        x: size [seq_length, 1, input_size]\n",
    "        \"\"\"\n",
    "        ### START YOUR CODE ###\n",
    "        h1 = torch.zeros(x.size(1), self.hidden_size)\n",
    "        for i in range(x.size(0)):\n",
    "            h1 = self.rnn_cell1(x[i,:,:], h1)\n",
    "        \n",
    "        h2 = torch.zeros(x.size(1), self.hidden_size)\n",
    "        for i in range(x.size(0)-1,-1,-1): # Hint: reverse the order of the for loop\n",
    "            h2 = self.rnn_cell2(x[i,:,:], h2)\n",
    "        #print(h1.size(),h2.size())\n",
    "        h = torch.cat((h1,h2),dim=1)\n",
    "        out = self.softmax(self.fc(h))\n",
    "        ### END YOUR CODE ###\n",
    "        \n",
    "        return out"
   ]
  },
  {
   "cell_type": "code",
   "execution_count": 8,
   "metadata": {
    "colab": {
     "base_uri": "https://localhost:8080/",
     "height": 588
    },
    "id": "aCCAmLzQYanE",
    "outputId": "5b3ddee5-e35c-451c-9759-0aeddac9766a"
   },
   "outputs": [
    {
     "name": "stdout",
     "output_type": "stream",
     "text": [
      "5000 5% (0m 9s) 2.6491 Villanueva / Polish ✗ (Spanish)\n",
      "10000 10% (0m 18s) 1.6460 Charbonneau / French ✓\n",
      "15000 15% (0m 28s) 4.7641 Santillian / Scottish ✗ (Spanish)\n",
      "20000 20% (0m 37s) 1.4760 Nogi / Korean ✗ (Japanese)\n",
      "25000 25% (0m 46s) 2.4161 Tankoshitsu / French ✗ (Japanese)\n",
      "30000 30% (0m 55s) 0.4829 Lawniczak / Polish ✓\n",
      "35000 35% (1m 5s) 0.7482 O'Byrne / Irish ✓\n",
      "40000 40% (1m 14s) 0.1552 Catalano / Italian ✓\n",
      "45000 45% (1m 23s) 0.7105 Albert / French ✓\n",
      "50000 50% (1m 32s) 2.1894 Tindall / Irish ✗ (English)\n",
      "55000 55% (1m 41s) 1.6873 Richard / French ✗ (Dutch)\n",
      "60000 60% (1m 51s) 0.0916 O'Keeffe / Irish ✓\n",
      "65000 65% (2m 0s) 1.0177 Verdon / English ✓\n",
      "70000 70% (2m 9s) 1.8651 Rey / Dutch ✗ (French)\n",
      "75000 75% (2m 19s) 1.5513 Abt / Scottish ✗ (German)\n",
      "80000 80% (2m 28s) 2.7001 Schmied / German ✗ (Czech)\n",
      "85000 85% (2m 37s) 0.4731 Mohren / Dutch ✓\n",
      "90000 90% (2m 48s) 1.9638 Pendlebury / Czech ✗ (English)\n",
      "95000 95% (2m 58s) 1.3754 Seif / Czech ✗ (Arabic)\n"
     ]
    },
    {
     "data": {
      "image/png": "[encoded data removed]",
      "text/plain": [
       "<Figure size 432x288 with 1 Axes>"
      ]
     },
     "metadata": {
      "needs_background": "light"
     },
     "output_type": "display_data"
    }
   ],
   "source": [
    "# Evaluate Task 3\n",
    "# Be even more patient, as the training time is almost doubled :P\n",
    "torch.manual_seed(0)\n",
    "random.seed(0)\n",
    "\n",
    "n_hidden = 128\n",
    "birnn = BiRNN(n_letters, n_hidden, n_categories)\n",
    "\n",
    "train(birnn)"
   ]
  },
  {
   "cell_type": "markdown",
   "metadata": {
    "id": "rzkxNTxfYanE"
   },
   "source": [
    "**Expected output**\n",
    "\n",
    "|&nbsp;|&nbsp;|\n",
    "|--|--|\n",
    "|5000 5% (0m 16s) | 2.9060 Ba / Vietnamese ✗ (Arabic)\n",
    "|10000 10% (0m 33s)| 1.9203 Silva / Spanish ✗ (Portuguese)\n",
    "|15000 15% (0m 51s)| 0.8597 Salucci / Italian ✓\n",
    "|20000 20% (1m 10s)| 1.8664 Chaim / Vietnamese ✗ (Chinese)\n",
    "|25000 25% (1m 29s)| 2.5580 Cruz / Spanish ✗ (Portuguese)\n",
    "|30000 30% (1m 50s)| 3.2462 Neusser / Dutch ✗ (Czech)\n",
    "|35000 35% (2m 8s) |0.4040 Ribeiro / Portuguese ✓\n",
    "|40000 40% (2m 27s)| 0.3474 Daher / Arabic ✓\n",
    "|45000 45% (2m 45s)| 1.1283 Guang / Vietnamese ✗ (Chinese)\n",
    "|50000 50% (3m 3s) |1.4291 Mackenzie / Russian ✗ (Scottish)\n",
    "|55000 55% (3m 20s)| 3.2796 Moon / Scottish ✗ (Korean)\n",
    "|60000 60% (3m 38s)| 2.5028 Boutros / Portuguese ✗ (Arabic)\n",
    "|65000 65% (3m 55s)| 0.0673 Schuttmann / German ✓\n",
    "|70000 70% (4m 13s)| 1.3614 Spada / Italian ✓\n",
    "|75000 75% (4m 30s)| 0.4321 Coilean / Irish ✓\n",
    "|80000 80% (4m 47s)| 1.7251 Schneider / Dutch ✗ (German)\n",
    "|85000 85% (5m 4s) |0.3610 Lopez / Spanish ✓\n",
    "|90000 90% (5m 22s)| 1.3607 Tremblay / French ✓\n",
    "|95000 95% (5m 40s)| 1.6964 Knopf / Czech ✗ (German)\n",
    "\n",
    "Simply from the above output, it seems that BiRNN does not bring significant improvement.\n",
    "Though we need more systematic evaluation.\n",
    "\n",
    "---"
   ]
  },
  {
   "cell_type": "markdown",
   "metadata": {
    "id": "_S7UENHyYanF"
   },
   "source": [
    "## Congratulations!\n",
    "\n",
    "Now you have built and trained models that can tell the nationality of a name. Try with the following functions on your own names!"
   ]
  },
  {
   "cell_type": "code",
   "execution_count": 9,
   "metadata": {
    "id": "DnoxTNkoYanF"
   },
   "outputs": [],
   "source": [
    "def evaluate(model, x_tensor):\n",
    "    model.eval()\n",
    "    with torch.no_grad():\n",
    "        output = model(x_tensor)\n",
    "    return output\n",
    "\n",
    "\n",
    "def predict(model, input_line, n_predictions=3):\n",
    "    print('\\n> %s' % input_line)\n",
    "    with torch.no_grad():\n",
    "        output = evaluate(model, lineToTensor(input_line))\n",
    "\n",
    "        # Get top N categories\n",
    "        topv, topi = output.topk(n_predictions, 1, True)\n",
    "        predictions = []\n",
    "\n",
    "        for i in range(n_predictions):\n",
    "            value = topv[0][i].item()\n",
    "            category_index = topi[0][i].item()\n",
    "            print('(%.2f) %s' % (value, all_categories[category_index]))\n",
    "            predictions.append([value, all_categories[category_index]])"
   ]
  },
  {
   "cell_type": "code",
   "execution_count": 10,
   "metadata": {
    "colab": {
     "base_uri": "https://localhost:8080/"
    },
    "id": "SJcpCCRzYanG",
    "outputId": "fc22a283-2822-44d3-b230-84c3a83229a7"
   },
   "outputs": [
    {
     "name": "stdout",
     "output_type": "stream",
     "text": [
      "\n",
      "> Jose\n",
      "(-0.67) English\n",
      "(-2.25) Korean\n",
      "(-2.30) German\n",
      "\n",
      "> Jose\n",
      "(-0.77) English\n",
      "(-1.12) German\n",
      "(-2.67) Dutch\n",
      "\n",
      "> Robinhood\n",
      "(-0.42) French\n",
      "(-1.64) English\n",
      "(-2.99) Dutch\n",
      "\n",
      "> Robinhood\n",
      "(-0.59) French\n",
      "(-1.21) English\n",
      "(-2.72) Scottish\n",
      "\n",
      "> Zhang\n",
      "(-0.06) Chinese\n",
      "(-3.47) Korean\n",
      "(-3.57) Vietnamese\n",
      "\n",
      "> Zhang\n",
      "(-0.11) Chinese\n",
      "(-2.54) Korean\n",
      "(-4.24) Vietnamese\n",
      "\n",
      "> Park\n",
      "(-1.20) Dutch\n",
      "(-1.45) English\n",
      "(-1.60) Czech\n",
      "\n",
      "> Park\n",
      "(-0.90) Dutch\n",
      "(-1.54) English\n",
      "(-1.99) Scottish\n",
      "\n",
      "> Jadon\n",
      "(-1.08) Russian\n",
      "(-1.46) English\n",
      "(-1.78) Polish\n",
      "\n",
      "> Jadon\n",
      "(-1.29) English\n",
      "(-1.35) Russian\n",
      "(-1.53) Korean\n",
      "\n",
      "> Marcus\n",
      "(-0.73) Portuguese\n",
      "(-0.97) French\n",
      "(-3.05) Spanish\n",
      "\n",
      "> Marcus\n",
      "(-0.02) Portuguese\n",
      "(-4.47) French\n",
      "(-4.79) Spanish\n"
     ]
    }
   ],
   "source": [
    "predict(birnn, 'Jose')\n",
    "predict(rnn, 'Jose')\n",
    "\n",
    "predict(birnn, 'Robinhood')\n",
    "predict(rnn, 'Robinhood')\n",
    "\n",
    "predict(birnn, 'Zhang')\n",
    "predict(rnn, 'Zhang')\n",
    "\n",
    "predict(birnn, 'Park')\n",
    "predict(rnn, 'Park')\n",
    "\n",
    "predict(birnn,'Jadon')\n",
    "predict(rnn,'Jadon')\n",
    "\n",
    "predict(birnn,'Marcus')\n",
    "predict(rnn,'Marcus')"
   ]
  },
  {
   "cell_type": "code",
   "execution_count": null,
   "metadata": {
    "id": "hXbP4iD4IJx1"
   },
   "outputs": [],
   "source": []
  }
 ],
 "metadata": {
  "colab": {
   "name": "a7_rnn2_WITH_SOLUTIONS.ipynb",
   "provenance": []
  },
  "kernelspec": {
   "display_name": "Python 3 (ipykernel)",
   "language": "python",
   "name": "python3"
  },
  "language_info": {
   "codemirror_mode": {
    "name": "ipython",
    "version": 3
   },
   "file_extension": ".py",
   "mimetype": "text/x-python",
   "name": "python",
   "nbconvert_exporter": "python",
   "pygments_lexer": "ipython3",
   "version": "3.9.6"
  }
 },
 "nbformat": 4,
 "nbformat_minor": 1
}
